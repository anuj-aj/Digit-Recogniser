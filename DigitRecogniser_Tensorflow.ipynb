{
 "cells": [
  {
   "cell_type": "code",
   "execution_count": 0,
   "metadata": {
    "colab": {},
    "colab_type": "code",
    "id": "ElFDjo1_pX_w"
   },
   "outputs": [],
   "source": [
    "import tensorflow as tf\n",
    "\n",
    "import numpy as np\n",
    "from matplotlib import pyplot as plt\n"
   ]
  },
  {
   "cell_type": "code",
   "execution_count": 60,
   "metadata": {
    "colab": {
     "base_uri": "https://localhost:8080/",
     "height": 50
    },
    "colab_type": "code",
    "id": "Dph0cf_Fq64Z",
    "outputId": "37184a47-262b-4742-8d3d-2a3ff3984b0f"
   },
   "outputs": [
    {
     "name": "stdout",
     "output_type": "stream",
     "text": [
      "[[12]]\n"
     ]
    },
    {
     "data": {
      "text/plain": [
       "array([[24, 36]], dtype=int32)"
      ]
     },
     "execution_count": 60,
     "metadata": {
      "tags": []
     },
     "output_type": "execute_result"
    }
   ],
   "source": [
    "a=tf.constant(2)\n",
    "b=tf.constant(3)\n",
    "sess=tf.Session()\n",
    "sess.run(b)\n",
    "a1=tf.constant([[3,3]])\n",
    "a2=tf.constant([[2],[2]])\n",
    "c=tf.matmul(a1,a2)\n",
    "\n",
    "with tf.Session() as sess:\n",
    "  print(c.eval())\n",
    "  \n",
    "var1=tf.Variable(3)\n",
    "var2=tf.Variable(4)\n",
    "sum=tf.add(var1,var2)\n",
    "sess= tf.Session() \n",
    "sess.run(tf.global_variables_initializer())\n",
    "sess.run(sum)  \n",
    "sess.run(var1.assign(123))  \n",
    "sess.run(var1.assign(123))\n",
    "\n",
    "\n",
    "x=tf.placeholder(tf.int32,shape=(1,2))\n",
    "y=tf.constant(12)*x\n",
    "sess.run(y,feed_dict=({x:[[2,3]]}))"
   ]
  },
  {
   "cell_type": "code",
   "execution_count": 0,
   "metadata": {
    "colab": {},
    "colab_type": "code",
    "id": "O3_xHUOYEuod"
   },
   "outputs": [],
   "source": [
    "from tensorflow.examples.tutorials.mnist import input_data"
   ]
  },
  {
   "cell_type": "code",
   "execution_count": 62,
   "metadata": {
    "colab": {
     "base_uri": "https://localhost:8080/",
     "height": 84
    },
    "colab_type": "code",
    "id": "l2P_k_Nbu2Dp",
    "outputId": "16d69b09-ed0d-4d0f-939e-989aa40992c7"
   },
   "outputs": [
    {
     "name": "stdout",
     "output_type": "stream",
     "text": [
      "Extracting MNIST_data/train-images-idx3-ubyte.gz\n",
      "Extracting MNIST_data/train-labels-idx1-ubyte.gz\n",
      "Extracting MNIST_data/t10k-images-idx3-ubyte.gz\n",
      "Extracting MNIST_data/t10k-labels-idx1-ubyte.gz\n"
     ]
    }
   ],
   "source": [
    "mnist=input_data.read_data_sets(\"MNIST_data/\",one_hot=True)"
   ]
  },
  {
   "cell_type": "code",
   "execution_count": 63,
   "metadata": {
    "colab": {
     "base_uri": "https://localhost:8080/",
     "height": 54
    },
    "colab_type": "code",
    "id": "OGv2BZhGGQ5j",
    "outputId": "79700814-e98f-4656-ac0a-51489571318d"
   },
   "outputs": [
    {
     "data": {
      "text/plain": [
       "Datasets(train=<tensorflow.contrib.learn.python.learn.datasets.mnist.DataSet object at 0x7f01ea116278>, validation=<tensorflow.contrib.learn.python.learn.datasets.mnist.DataSet object at 0x7f01ea1162e8>, test=<tensorflow.contrib.learn.python.learn.datasets.mnist.DataSet object at 0x7f01ea1161d0>)"
      ]
     },
     "execution_count": 63,
     "metadata": {
      "tags": []
     },
     "output_type": "execute_result"
    }
   ],
   "source": [
    "mnist\n",
    "#mnist has labels and images"
   ]
  },
  {
   "cell_type": "code",
   "execution_count": 64,
   "metadata": {
    "colab": {
     "base_uri": "https://localhost:8080/",
     "height": 34
    },
    "colab_type": "code",
    "id": "Z34Yi7nnGdKr",
    "outputId": "391af539-d994-4e94-f9b2-ab42dc05cb28"
   },
   "outputs": [
    {
     "data": {
      "text/plain": [
       "(55000, 784)"
      ]
     },
     "execution_count": 64,
     "metadata": {
      "tags": []
     },
     "output_type": "execute_result"
    }
   ],
   "source": [
    "mnist.train.images.shape"
   ]
  },
  {
   "cell_type": "code",
   "execution_count": 65,
   "metadata": {
    "colab": {
     "base_uri": "https://localhost:8080/",
     "height": 34
    },
    "colab_type": "code",
    "id": "09BEiKv0G7_d",
    "outputId": "65f5592e-1f96-48f4-9a12-28e7cd6d26bc"
   },
   "outputs": [
    {
     "data": {
      "text/plain": [
       "(10000, 784)"
      ]
     },
     "execution_count": 65,
     "metadata": {
      "tags": []
     },
     "output_type": "execute_result"
    }
   ],
   "source": [
    "mnist.test.images.shape"
   ]
  },
  {
   "cell_type": "code",
   "execution_count": 66,
   "metadata": {
    "colab": {
     "base_uri": "https://localhost:8080/",
     "height": 34
    },
    "colab_type": "code",
    "id": "9aq9JCouHNJG",
    "outputId": "88cdb7e1-321c-46aa-e70a-2d607fd508f2"
   },
   "outputs": [
    {
     "data": {
      "text/plain": [
       "array([0., 0., 0., 0., 0., 0., 0., 1., 0., 0.])"
      ]
     },
     "execution_count": 66,
     "metadata": {
      "tags": []
     },
     "output_type": "execute_result"
    }
   ],
   "source": [
    "mnist.train.labels[0]"
   ]
  },
  {
   "cell_type": "code",
   "execution_count": 67,
   "metadata": {
    "colab": {
     "base_uri": "https://localhost:8080/",
     "height": 347
    },
    "colab_type": "code",
    "id": "56UJ_nYtIRNl",
    "outputId": "990566cf-60b4-4b3f-ef05-9e572ef7430a"
   },
   "outputs": [
    {
     "data": {
      "image/png": "[encoded data removed]",
      "text/plain": [
       "<matplotlib.figure.Figure at 0x7f01ea117198>"
      ]
     },
     "metadata": {
      "tags": []
     },
     "output_type": "display_data"
    }
   ],
   "source": [
    "first_image=mnist.train.images[412]\n",
    "first_image=np.array(first_image,dtype='float')\n",
    "first_image=first_image.reshape(28,28)\n",
    "plt.imshow(first_image)\n",
    "plt.show()"
   ]
  },
  {
   "cell_type": "code",
   "execution_count": 0,
   "metadata": {
    "colab": {},
    "colab_type": "code",
    "id": "Uf63s2fdG8kL"
   },
   "outputs": [],
   "source": [
    "#input layer has 784 units\n",
    "#for output layer   10 units\n",
    "# unit in hidden layer 1 and 2= 256\n",
    "#all biases added"
   ]
  },
  {
   "cell_type": "code",
   "execution_count": 0,
   "metadata": {
    "colab": {},
    "colab_type": "code",
    "id": "ozLXPL36G9BH"
   },
   "outputs": [],
   "source": [
    "n_input=784\n",
    "n_hidden_1=256\n",
    "n_hidden_2=256\n",
    "n_classes=10\n",
    "\n",
    "\n",
    "weights={\n",
    "    'hl1':tf.Variable(tf.random_normal([n_input,n_hidden_1])),\n",
    "    'hl2':tf.Variable(tf.random_normal([n_hidden_1,n_hidden_2])),\n",
    "    'output':tf.Variable(tf.random_normal([n_hidden_2,n_classes]))\n",
    "    \n",
    "}\n",
    "bias={\n",
    "    'hl1':tf.Variable(tf.random_normal([n_hidden_1])),\n",
    "    'hl2':tf.Variable(tf.random_normal([n_hidden_2])),\n",
    "    'output':tf.Variable(tf.random_normal([n_classes]))\n",
    "    \n",
    "}"
   ]
  },
  {
   "cell_type": "code",
   "execution_count": 0,
   "metadata": {
    "colab": {},
    "colab_type": "code",
    "id": "RJCJKhsDt3DA"
   },
   "outputs": [],
   "source": [
    "def forward_prediction(x,weights,biases):\n",
    "  inlayer1=tf.add(tf.matmul(x,weights['hl1']),biases['hl1'])\n",
    "  outlayer1=tf.nn.relu(inlayer1)\n",
    "  inlayer2=tf.add(tf.matmul(outlayer1,weights['hl2']),biases['hl2'])\n",
    "  outlayer2=tf.nn.relu(inlayer2)\n",
    "  output=tf.add(tf.matmul(outlayer2,weights['output']),biases['output'])\n",
    "  return output\n"
   ]
  },
  {
   "cell_type": "code",
   "execution_count": 0,
   "metadata": {
    "colab": {},
    "colab_type": "code",
    "id": "9Cq7tB_6g68S"
   },
   "outputs": [],
   "source": []
  },
  {
   "cell_type": "code",
   "execution_count": 0,
   "metadata": {
    "colab": {},
    "colab_type": "code",
    "id": "sZy6GWj-yQMX"
   },
   "outputs": [],
   "source": [
    "\n"
   ]
  },
  {
   "cell_type": "code",
   "execution_count": 0,
   "metadata": {
    "colab": {},
    "colab_type": "code",
    "id": "pk-ql6zfl-65"
   },
   "outputs": [],
   "source": [
    "x=tf.placeholder('float',[None,n_input])\n",
    "y=tf.placeholder(tf.int32,[None,n_classes])\n",
    "pred=forward_prediction(x,weights,bias)\n",
    "\n"
   ]
  },
  {
   "cell_type": "code",
   "execution_count": 0,
   "metadata": {
    "colab": {},
    "colab_type": "code",
    "id": "1QMPNZUTmzDp"
   },
   "outputs": [],
   "source": [
    "cost=tf.reduce_mean(tf.nn.softmax_cross_entropy_with_logits(logits=pred,labels=y))"
   ]
  },
  {
   "cell_type": "code",
   "execution_count": 0,
   "metadata": {
    "colab": {},
    "colab_type": "code",
    "id": "7ozHZF3OopKy"
   },
   "outputs": [],
   "source": []
  },
  {
   "cell_type": "code",
   "execution_count": 0,
   "metadata": {
    "colab": {},
    "colab_type": "code",
    "id": "nwXtxKfpnAnc"
   },
   "outputs": [],
   "source": [
    "optimizer=tf.train.AdamOptimizer(learning_rate=0.01)\n",
    "optimize=optimizer.minimize(cost)"
   ]
  },
  {
   "cell_type": "code",
   "execution_count": 0,
   "metadata": {
    "colab": {},
    "colab_type": "code",
    "id": "0WkbRWV_pQdW"
   },
   "outputs": [],
   "source": [
    "sess=tf.Session()\n",
    "sess.run(tf.global_variables_initializer())"
   ]
  },
  {
   "cell_type": "code",
   "execution_count": 87,
   "metadata": {
    "colab": {
     "base_uri": "https://localhost:8080/",
     "height": 437
    },
    "colab_type": "code",
    "id": "CyFV1lsunSDY",
    "outputId": "fd0d9fb5-9255-4782-913e-2b6ad4adc306"
   },
   "outputs": [
    {
     "name": "stdout",
     "output_type": "stream",
     "text": [
      "59.265427\n",
      "57.145428\n",
      "54.995586\n",
      "52.973988\n",
      "51.163155\n",
      "49.582035\n",
      "48.15595\n",
      "46.822083\n",
      "45.509018\n",
      "44.207382\n",
      "42.952446\n",
      "41.80134\n",
      "40.76945\n",
      "39.831474\n",
      "38.934746\n",
      "38.0219\n",
      "37.06835\n",
      "36.099483\n",
      "35.161076\n",
      "34.285797\n",
      "33.501225\n",
      "32.79812\n",
      "32.13144\n",
      "31.487623\n",
      "30.856936\n"
     ]
    }
   ],
   "source": [
    "for i in range(25):\n",
    "  costnew, n=sess.run([cost,optimize],feed_dict={x:mnist.train.images,y:mnist.train.labels})\n",
    "  print(costnew)"
   ]
  },
  {
   "cell_type": "code",
   "execution_count": 92,
   "metadata": {
    "colab": {
     "base_uri": "https://localhost:8080/",
     "height": 67
    },
    "colab_type": "code",
    "id": "Bf5x3bR0mcFR",
    "outputId": "4276e2f3-24e0-492e-e067-4a7fe87f4f9a"
   },
   "outputs": [
    {
     "data": {
      "text/plain": [
       "(array([7, 3, 9, ..., 5, 6, 8]),\n",
       " array([7, 3, 4, ..., 5, 6, 8]),\n",
       " array([ True,  True, False, ...,  True,  True,  True]))"
      ]
     },
     "execution_count": 92,
     "metadata": {
      "tags": []
     },
     "output_type": "execute_result"
    }
   ],
   "source": [
    "predns=tf.argmax(pred,1)\n",
    "truelabels=tf.argmax(y,1)\n",
    "correct_predictions = tf.equal(predns, truelabels)\n",
    "\n",
    "predn_eval,labels,correct=sess.run([predns,truelabels,correct_predictions],feed_dict={x:mnist.train.images,y:mnist.train.labels})\n",
    "predn_eval,labels,correct"
   ]
  },
  {
   "cell_type": "code",
   "execution_count": 93,
   "metadata": {
    "colab": {
     "base_uri": "https://localhost:8080/",
     "height": 34
    },
    "colab_type": "code",
    "id": "rC8TvPebgymC",
    "outputId": "1dd5c854-e47a-4a06-feb5-0ac47969610e"
   },
   "outputs": [
    {
     "data": {
      "text/plain": [
       "49860"
      ]
     },
     "execution_count": 93,
     "metadata": {
      "tags": []
     },
     "output_type": "execute_result"
    }
   ],
   "source": [
    "correct.sum()"
   ]
  },
  {
   "cell_type": "markdown",
   "metadata": {
    "colab_type": "text",
    "id": "th9ZtEXSzlS7"
   },
   "source": []
  }
 ],
 "metadata": {
  "colab": {
   "collapsed_sections": [],
   "name": "Tensorflow_basics.ipynb",
   "provenance": [],
   "version": "0.3.2"
  },
  "kernelspec": {
   "display_name": "Python 3",
   "language": "python",
   "name": "python3"
  },
  "language_info": {
   "codemirror_mode": {
    "name": "ipython",
    "version": 3
   },
   "file_extension": ".py",
   "mimetype": "text/x-python",
   "name": "python",
   "nbconvert_exporter": "python",
   "pygments_lexer": "ipython3",
   "version": "3.7.0"
  }
 },
 "nbformat": 4,
 "nbformat_minor": 1
}
