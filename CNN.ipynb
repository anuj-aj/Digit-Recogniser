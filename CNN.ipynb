{
  "nbformat": 4,
  "nbformat_minor": 0,
  "metadata": {
    "colab": {
      "name": "CNN.ipynb",
      "version": "0.3.2",
      "provenance": []
    },
    "kernelspec": {
      "name": "python3",
      "display_name": "Python 3"
    }
  },
  "cells": [
    {
      "metadata": {
        "id": "wT-7JUttTRQa",
        "colab_type": "code",
        "colab": {}
      },
      "cell_type": "code",
      "source": [
        "import tensorflow as tf\n",
        "\n",
        "import numpy as np\n",
        "from matplotlib import pyplot as plt"
      ],
      "execution_count": 0,
      "outputs": []
    },
    {
      "metadata": {
        "id": "9GWd6GruTZm8",
        "colab_type": "code",
        "colab": {
          "base_uri": "https://localhost:8080/",
          "height": 84
        },
        "outputId": "964ce9aa-a277-43f3-a499-87451882acda"
      },
      "cell_type": "code",
      "source": [
        "from tensorflow.examples.tutorials.mnist import input_data\n",
        "mnist=input_data.read_data_sets(\"MNIST_data/\",one_hot=True)"
      ],
      "execution_count": 15,
      "outputs": [
        {
          "output_type": "stream",
          "text": [
            "Extracting MNIST_data/train-images-idx3-ubyte.gz\n",
            "Extracting MNIST_data/train-labels-idx1-ubyte.gz\n",
            "Extracting MNIST_data/t10k-images-idx3-ubyte.gz\n",
            "Extracting MNIST_data/t10k-labels-idx1-ubyte.gz\n"
          ],
          "name": "stdout"
        }
      ]
    },
    {
      "metadata": {
        "id": "lTRALej-TgAC",
        "colab_type": "code",
        "colab": {}
      },
      "cell_type": "code",
      "source": [
        "input_width=28\n",
        "input_height=28\n",
        "input_channels=1\n",
        "input_pixels=784\n",
        "\n",
        "n_conv1=32\n",
        "n_conv2=64\n",
        "stride_conv1=1\n",
        "stride_conv2=1\n",
        "conv1_k=5\n",
        "conv2_k=5\n",
        "max_pool1k=2\n",
        "max_pool2k=2\n",
        "\n",
        "input_size_to_hidden=(input_width//((max_pool1k)*(max_pool1k)))*(input_height//((max_pool1k)*(max_pool1k)))\n",
        "n_hidden=1024\n",
        "n_out=10\n",
        "\n"
      ],
      "execution_count": 0,
      "outputs": []
    },
    {
      "metadata": {
        "id": "ZbzbBUscZCmC",
        "colab_type": "code",
        "colab": {}
      },
      "cell_type": "code",
      "source": [
        "weights={\n",
        "    \"wc1\": tf.Variable(tf.random_normal([conv1_k,conv1_k,input_channels,n_conv1])) ,   \n",
        "    'wc2':tf.Variable(tf.random_normal([conv2_k,conv2_k,n_conv1,n_conv2])) ,\n",
        "    'whl1':tf.Variable(tf.random_normal([input_size_to_hidden,n_hidden])) ,\n",
        "    'wo':tf.Variable(tf.random_normal([n_hidden,n_out])) \n",
        "}\n",
        "\n",
        "biases={\n",
        "    'bc1':tf.Variable(tf.random_normal([n_conv1])),\n",
        "    'bc2':tf.Variable(tf.random_normal([n_conv2])),\n",
        "    'bh':tf.Variable(tf.random_normal([n_hidden])),\n",
        "    'bo':tf.Variable(tf.random_normal([n_out]))\n",
        "    \n",
        "}"
      ],
      "execution_count": 0,
      "outputs": []
    },
    {
      "metadata": {
        "id": "euhuJ6tC6PMd",
        "colab_type": "code",
        "colab": {}
      },
      "cell_type": "code",
      "source": [
        "def cnn(x,weights,biases):\n",
        "  tf.reshape(x,shape=[-1,input_width,input_height,input_channels])\n",
        "  conv1=conv(x,weights['wc1'],biases['bc1'],stride_conv1)\n",
        "  conv1_pool=maxpooling(conv1,max_pool1k)\n",
        "  conv2=conv(conv1_pool,weights['wc2'],biases['bc2'],stride_conv2)\n",
        "  conv2_pool=maxpooling(conv2,max_pool1k)\n",
        "  hidden_input=tf.reshape(conv2_pool,shape=[-1,input_size_to_hidden])\n",
        "  hidden_output_before_activation=tf.add(tf.matmul(hidden_input,weights['whl1']),biases['bh'])\n",
        "  hidden_output=tf.nn.relu(hidden_output_before_activation)\n",
        "  output=tf.add(tf.matmul(hidden_output,weights['wo']),biases['bo'])\n",
        "  return output\n"
      ],
      "execution_count": 0,
      "outputs": []
    },
    {
      "metadata": {
        "id": "FpyR2IhqMx_e",
        "colab_type": "code",
        "colab": {}
      },
      "cell_type": "code",
      "source": [
        "def conv(x,weights,biases,stride):\n",
        "  out=tf.nn.conv2d(x,weights,padding='SAME',strides=[1,stride,stride,1])\n",
        "  out=tf.nn.bias_add(out,bias)\n",
        "  out=tf.nn.relu(out)\n",
        "  return out"
      ],
      "execution_count": 0,
      "outputs": []
    },
    {
      "metadata": {
        "id": "UnfqU11bNYd8",
        "colab_type": "code",
        "colab": {}
      },
      "cell_type": "code",
      "source": [
        "def maxpooling(x,k=2):\n",
        "  return tf.nn.maxpool(x,padding='SAME',ksize=[1,k,k,1],strides=[1,k,k,1])"
      ],
      "execution_count": 0,
      "outputs": []
    }
  ]
}